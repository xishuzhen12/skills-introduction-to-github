{
 "cells": [
  {
   "cell_type": "markdown",
   "id": "ce3c69f4-d3d8-41cb-87e1-5ec50845915d",
   "metadata": {},
   "source": [
    "# Data Science Tools and Ecosystem"
   ]
  },
  {
   "cell_type": "markdown",
   "id": "71848403-1113-4a7f-8b8e-5f4745588e35",
   "metadata": {},
   "source": [
    "In this notbook, Data Science Tools and Ecosystem are summarized."
   ]
  },
  {
   "cell_type": "markdown",
   "id": "ba5476a6-9cf8-4918-93a9-bc2af898d181",
   "metadata": {},
   "source": [
    "Some of the popular languages that Data Scientists use are:\n",
    "1. Python\n",
    "2. R\n",
    "3. Julia"
   ]
  },
  {
   "cell_type": "markdown",
   "id": "3cef88e2-df13-49de-ba8c-07001833b444",
   "metadata": {},
   "source": [
    "Some of the commonly used libraries used by Data Scientists include:\n",
    "1. PyTorch\n",
    "2. Tensorflow\n",
    "3. Keras"
   ]
  },
  {
   "cell_type": "markdown",
   "id": "546a37bc-2459-43a9-a29c-f8da06155bc8",
   "metadata": {},
   "source": [
    "|Data Science Tools|\n",
    "|------|\n",
    "|Jupternotebook|\n",
    "|RStudio|\n",
    "|Visual Studio|"
   ]
  },
  {
   "cell_type": "markdown",
   "id": "b4d184a2-2938-4497-9cd9-1a4c9a76f70b",
   "metadata": {},
   "source": [
    "### Below are a few examples of evaluating arithmetic expressions in Python"
   ]
  },
  {
   "cell_type": "code",
   "execution_count": 6,
   "id": "ae9f4559-abaa-4050-ac48-2e3aa2916954",
   "metadata": {},
   "outputs": [
    {
     "data": {
      "text/plain": [
       "17"
      ]
     },
     "execution_count": 6,
     "metadata": {},
     "output_type": "execute_result"
    }
   ],
   "source": [
    "(3*4)+5 # This a simple arithmetic expression to mutiply then add integers"
   ]
  },
  {
   "cell_type": "code",
   "execution_count": 8,
   "id": "0b39174a-4028-4e03-a375-2db76bbf48fe",
   "metadata": {},
   "outputs": [
    {
     "data": {
      "text/plain": [
       "3.3333333333333335"
      ]
     },
     "execution_count": 8,
     "metadata": {},
     "output_type": "execute_result"
    }
   ],
   "source": [
    "# This will convert 200 minutes to hours by diving by 60\n",
    "200/60"
   ]
  },
  {
   "cell_type": "markdown",
   "id": "11ccb654-70ff-4054-b29c-8dd778ac04e8",
   "metadata": {},
   "source": [
    "___Objectives:___\n",
    "- R\n",
    "- python\n",
    "- java\n",
    "- julia"
   ]
  },
  {
   "cell_type": "markdown",
   "id": "ac03ca23-d062-4aaf-8fc5-4bef08e1a728",
   "metadata": {},
   "source": [
    "## Author\n",
    "Shuzhen Xi"
   ]
  },
  {
   "cell_type": "code",
   "execution_count": null,
   "id": "a72be31c-4c9d-4305-958b-b7ea6e235111",
   "metadata": {},
   "outputs": [],
   "source": []
  }
 ],
 "metadata": {
  "kernelspec": {
   "display_name": "Python [conda env:base] *",
   "language": "python",
   "name": "conda-base-py"
  },
  "language_info": {
   "codemirror_mode": {
    "name": "ipython",
    "version": 3
   },
   "file_extension": ".py",
   "mimetype": "text/x-python",
   "name": "python",
   "nbconvert_exporter": "python",
   "pygments_lexer": "ipython3",
   "version": "3.12.7"
  }
 },
 "nbformat": 4,
 "nbformat_minor": 5
}
